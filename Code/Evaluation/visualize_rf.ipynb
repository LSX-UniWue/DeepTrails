{
 "cells": [
  {
   "cell_type": "code",
   "execution_count": null,
   "metadata": {},
   "outputs": [],
   "source": [
    "import sys\n",
    "sys.path.insert(0, \"../../code-2023-deephyptrails/\")  # you might need to use the absolute path here"
   ]
  },
  {
   "cell_type": "code",
   "execution_count": null,
   "metadata": {},
   "outputs": [],
   "source": [
    "import pickle\n",
    "\n",
    "import matplotlib.pyplot as plt\n",
    "import numpy as np\n",
    "import pandas as pd\n",
    "import torch\n",
    "import umap\n",
    "import umap.plot\n",
    "from sklearn.ensemble import RandomForestClassifier\n",
    "\n",
    "from Code.Dataset.HypothesisDataset import HypothesisDataset\n",
    "from Code.Dataset.SyntheticDataset import RFWalkDataset\n",
    "from Code.Models.RandoLMForest import generate, get_probabilities_per_token"
   ]
  },
  {
   "cell_type": "code",
   "execution_count": null,
   "metadata": {},
   "outputs": [],
   "source": [
    "model = pickle.load(\n",
    "    open(\"code-2023-deephyptrails/data/all-data/randoLM_data-even.pkl\", \"rb\")\n",
    ")\n",
    "model"
   ]
  },
  {
   "cell_type": "code",
   "execution_count": null,
   "metadata": {},
   "outputs": [],
   "source": [
    "generate(model, initial_context=[0], max_length=10)"
   ]
  },
  {
   "cell_type": "code",
   "execution_count": null,
   "metadata": {},
   "outputs": [],
   "source": [
    "dataset = HypothesisDataset(\"code-2023-deephyptrails/data/all-data/dataset.jsonl\")"
   ]
  },
  {
   "cell_type": "code",
   "execution_count": null,
   "metadata": {},
   "outputs": [],
   "source": [
    "for hypothesis, hypothesis_walks in dataset.hypothesis_walks.items():\n",
    "    print(hypothesis, len(hypothesis_walks))"
   ]
  },
  {
   "cell_type": "code",
   "execution_count": null,
   "metadata": {},
   "outputs": [],
   "source": [
    "def plot_stuff(hypo, walkies):\n",
    "    ds = RFWalkDataset(walkies)\n",
    "    probs = get_probabilities_per_token(model, ds.inputs, ds.targets)\n",
    "    print(len(probs))\n",
    "    probs_by_token = {i: [] for i in range(102)}\n",
    "    for p, t in zip(probs, ds.targets):\n",
    "        probs_by_token[t].append(p)\n",
    "\n",
    "    probs_by_token = {i: np.mean(p) for i, p in probs_by_token.items()}\n",
    "    plt.figure()\n",
    "    plt.plot(probs_by_token.keys(), probs_by_token.values())\n",
    "    plt.xlabel(\"Token\")\n",
    "    plt.ylabel(\"Probability\")\n",
    "    plt.title(hypo)\n",
    "\n",
    "\n",
    "    # likeliest_tokens_ranked = results[\"logits\"].argsort(2, descending=True)\n",
    "    # ranks = (target_walkies.unsqueeze(-1) == likeliest_tokens_ranked).nonzero()\n",
    "\n",
    "    # ranks_df = pd.DataFrame(ranks, columns=[\"sample\", \"step\", \"rank\"])\n",
    "    # ranks_df[\"target_token\"] = target_walkies.flatten()\n",
    "    # ranks_df[\"predicted_token\"] = results[\"logits\"].argmax(2).flatten()\n",
    "\n",
    "    # if by == \"decoding_step\":\n",
    "    #     ranks_df.groupby(\"step\").mean()[\"rank\"].plot(\n",
    "    #         xticks=list(range(21)),\n",
    "    #         label=' '.join(name.split(\"-\")[1:]).title() + f\" ({results['loss'].item():.2f})\",\n",
    "    #         xlabel=\"decoding time step\",\n",
    "    #         ylabel=\"avg. rank\",\n",
    "    #     )"
   ]
  },
  {
   "cell_type": "code",
   "execution_count": null,
   "metadata": {},
   "outputs": [],
   "source": [
    "for name in [\"hyp-even\", \"hyp-odd\"]:\n",
    "    print(name)\n",
    "    plot_stuff(name, dataset.hypothesis_walks[name][:200])"
   ]
  },
  {
   "cell_type": "code",
   "execution_count": null,
   "metadata": {},
   "outputs": [],
   "source": [
    "for hypothesis, hypothesis_walks in dataset.hypothesis_walks.items():\n",
    "    ds = RFWalkDataset(hypothesis_walks)\n",
    "    probs = get_probabilities_per_token(model, ds.inputs, ds.targets, vocab_size=100)\n",
    "    probs_by_index = {i: [] for i in range(50)}\n",
    "    for p, i in zip(probs, ds.indices):\n",
    "        probs_by_index[i].append(p)\n",
    "\n",
    "    probs_by_index = {i: np.mean(p) for i, p in probs_by_index.items()}\n",
    "\n",
    "    plt.figure()\n",
    "    plt.plot(probs_by_index.keys(), probs_by_index.values())\n",
    "    plt.xlabel(\"Index\")\n",
    "    plt.ylabel(\"Probability\")\n",
    "    plt.title(hypothesis)"
   ]
  },
  {
   "cell_type": "code",
   "execution_count": null,
   "metadata": {},
   "outputs": [],
   "source": []
  }
 ],
 "metadata": {
  "kernelspec": {
   "display_name": "venv",
   "language": "python",
   "name": "python3"
  },
  "language_info": {
   "codemirror_mode": {
    "name": "ipython",
    "version": 3
   },
   "file_extension": ".py",
   "mimetype": "text/x-python",
   "name": "python",
   "nbconvert_exporter": "python",
   "pygments_lexer": "ipython3",
   "version": "3.11.5"
  },
  "orig_nbformat": 4
 },
 "nbformat": 4,
 "nbformat_minor": 2
}
